{
 "cells": [
  {
   "cell_type": "markdown",
   "id": "c1ca6f06-8cf1-450f-b8ad-a798a840404b",
   "metadata": {},
   "source": [
    "# Response Matrix Emulator Example"
   ]
  },
  {
   "cell_type": "markdown",
   "id": "193b8697-5ef2-4c65-bc28-908a539d2b14",
   "metadata": {},
   "source": [
    "Assuming you have run most or all of the tutorial notebooks, you hopefully have an appreciation for the computational burden of decision support modeling, especially for management optmization (see Part2_09_mou). This computational burden is obviously much greater for real-world models than it is for the Freyberg domain. Meanwhile, decisionmakers often need results fast, and are often interested in scenarios of perturbations to the original scenario performed. Here enters _emulators_. "
   ]
  },
  {
   "cell_type": "markdown",
   "id": "dc7b1d3e-a664-420c-9d97-49c425e2964d",
   "metadata": {},
   "source": [
    "__Emulator__ (aka surrogate or metamodel): a more efficient (e.g., faster running) approximation of a process-based model."
   ]
  },
  {
   "cell_type": "markdown",
   "id": "6f2d29f3-b67f-467e-ad9b-9db4dde855bb",
   "metadata": {},
   "source": [
    "There are many (and more every day) options for groundwater model emulation (see __[Asher et al. (2015)](https://doi.org/10.1002/2015WR016967)__ for a nice review); this notebook walks through how to build and apply a response matrix emulator. "
   ]
  },
  {
   "cell_type": "markdown",
   "id": "0042cca2-a261-4e81-b547-069ae5ebcbfd",
   "metadata": {},
   "source": [
    "### Admin\n",
    "\n",
    "Start off with the usual loading of dependencies and preparing model and PEST files. We will be continuing to work with the modified-Freyberg model (see [\"freyberg intro to model\"](../part0_02_intro_to_freyberg_model/intro_freyberg_model.ipynb) notebook), and the high-dimensional PEST dataset prepared in the [\"freyberg pstfrom pest setup\"](../part2_01_pstfrom_pest_setup/freyberg_pstfrom_pest_setup.ipynb)\" and [\"observation and weights\"](../part2_02_obs_and_weights/freyberg_obs_and_weights.ipynb) notebooks. \n",
    "\n",
    "For the purposes of this notebook, you do not require familiarity with previous notebooks (but it helps...). \n",
    "\n",
    "Simply run the next few cells by pressing `shift+enter`."
   ]
  },
  {
   "cell_type": "code",
   "execution_count": 1,
   "id": "739b27ab-7ff5-48f0-b0a3-e658242f5900",
   "metadata": {},
   "outputs": [],
   "source": [
    "import os\n",
    "import warnings\n",
    "warnings.filterwarnings(\"ignore\")\n",
    "warnings.filterwarnings(\"ignore\", category=DeprecationWarning) \n",
    "import numpy as np\n",
    "import pandas as pd\n",
    "font = {'size'   : 10}\n",
    "import matplotlib\n",
    "matplotlib.rc('font', **font)\n",
    "import matplotlib.pyplot as plt;\n",
    "import shutil\n",
    "import psutil\n",
    "\n",
    "import sys\n",
    "import pyemu\n",
    "import flopy\n",
    "assert \"dependencies\" in flopy.__file__\n",
    "assert \"dependencies\" in pyemu.__file__\n",
    "sys.path.insert(0,\"..\")\n",
    "import herebedragons as hbd\n",
    "from useful_fxns import *"
   ]
  },
  {
   "cell_type": "markdown",
   "id": "073d416a-137c-4184-8021-1196b5515e4e",
   "metadata": {},
   "source": [
    "To maintain continuity in the series of tutorials, we we use the PEST-dataset prepared in the [\"observation and weights\"](../part2_02_obs_and_weights/freyberg_obs_and_weights.ipynb) tutorial. Run the next cell to copy the necessary files across. Note that you will need to run the previous notebooks in the correct order beforehand.\n",
    "\n",
    "Specify the path to the PEST dataset template folder. Recall that we will prepare our PEST dataset files in this folder, keeping them separate from the original model files. Then copy across pre-prepared model and PEST files:"
   ]
  },
  {
   "cell_type": "markdown",
   "id": "2fb34b7c-7950-4816-bcd1-399eea5f6a94",
   "metadata": {},
   "source": [
    "### What is a response matrix?"
   ]
  },
  {
   "cell_type": "markdown",
   "id": "cb8d525a-ef79-4247-833d-647623700ad3",
   "metadata": {},
   "source": [
    " A matrix that maps changes to decision variables (e.g., model parameters) to changes in outputs (e.g., model observations). This is analogous to a Jacobian matrix underpinning inversion and parameter estimation (__[Doherty, 2015](https://s3.amazonaws.com/docs.pesthomepage.org/documents/all_manuals.zip)__). The response matrix is formulated as follows:\n"
   ]
  },
  {
   "cell_type": "markdown",
   "id": "90966660-0379-4a3c-b0d8-978a0600bc9f",
   "metadata": {},
   "source": [
    "### $ A [outputs\\;x\\;decision\\;variables] = \\frac{\\partial outputs}{\\partial decision variables} \\approx \\frac{\\delta outputs}{\\delta decision variables} $"
   ]
  },
  {
   "cell_type": "markdown",
   "id": "bd305752-93e9-43cd-a44b-9408d23a11a6",
   "metadata": {},
   "source": [
    "Assuming linearity between decision variables and outputs (which is a big assumption!), the response matrix A is independent of the initial decision variable values. Therefore, the response matrix A can be used to emulate the predicted response (outputs) to a given set of decision variables by multiplying it by a change vector of the decision variables. "
   ]
  },
  {
   "cell_type": "markdown",
   "id": "f980a9ff-7ae0-4923-a6c9-255ff700f5d5",
   "metadata": {},
   "source": [
    "## $ \\partial outputs = A * \\partial decision\\;variables $"
   ]
  },
  {
   "cell_type": "markdown",
   "id": "3e959df8-02b6-419f-9492-505651b17053",
   "metadata": {},
   "source": [
    "Clear as mud? Great, let's put it in practice! We are going to build a response matrix emulator (RME) for none other than the Freyberg model. Let's pretend we are a groundwater aquifer manager tasked with ensuring that water levels in the basin don't fall below some critical threshold given various pumping regimes. The outputs are model heads and the decision variables are pumping rates at each of the wells."
   ]
  },
  {
   "cell_type": "markdown",
   "id": "41a191c3-1192-4bcb-8956-f8f32493b2c7",
   "metadata": {},
   "source": [
    "Constructing the response matrix requires running the model once per decision variable (applying the same perturbation or increment to each), and recording all outputs. This gives a matrix of size decision variables by outputs. This can be done using pyemu and PEST++ by using either PESTPP-GLM or PESTPP-OPT. For this example, we will use PESTPP-GLM. "
   ]
  },
  {
   "cell_type": "markdown",
   "id": "65141d2f-9a36-4df5-a1d8-f3819be452e3",
   "metadata": {},
   "source": [
    "Let's build this puppy from scratch using `PstFrom`"
   ]
  },
  {
   "cell_type": "code",
   "execution_count": 2,
   "id": "00c53484-eeec-4d78-8d23-5f07f22b3747",
   "metadata": {},
   "outputs": [
    {
     "data": {
      "text/plain": [
       "'freyberg_mf6'"
      ]
     },
     "execution_count": 2,
     "metadata": {},
     "output_type": "execute_result"
    }
   ],
   "source": [
    "#create working directory and copy monthly freyberg model files into it\n",
    "new_d = os.path.join('freyberg_mf6')\n",
    "og_model_files = os.path.join('..','..','models','monthly_model_files_1lyr_newstress')\n",
    "\n",
    "if os.path.exists(new_d):\n",
    "    shutil.rmtree(new_d)\n",
    "\n",
    "shutil.copytree(og_model_files,new_d)"
   ]
  },
  {
   "cell_type": "code",
   "execution_count": 3,
   "id": "178adf09-2e9f-43fa-aa58-b3847637bb20",
   "metadata": {},
   "outputs": [
    {
     "name": "stdout",
     "output_type": "stream",
     "text": [
      "loading simulation...\n",
      "  loading simulation name file...\n",
      "  loading tdis package...\n",
      "  loading model gwf6...\n",
      "    loading package dis...\n",
      "    loading package ic...\n",
      "    loading package npf...\n",
      "    loading package sto...\n",
      "    loading package oc...\n",
      "    loading package wel...\n",
      "    loading package rch...\n",
      "    loading package ghb...\n",
      "    loading package sfr...\n",
      "    loading package obs...\n",
      "  loading solution package freyberg6...\n"
     ]
    }
   ],
   "source": [
    "#load the model\n",
    "sim = flopy.mf6.MFSimulation.load(sim_ws=new_d)\n",
    "# load flow model\n",
    "gwf = sim.get_model()\n",
    "# get spatial reference\n",
    "modelgrid = gwf.modelgrid\n",
    "# get zone array\n",
    "idomain = gwf.dis.idomain.get_data()"
   ]
  },
  {
   "cell_type": "code",
   "execution_count": 4,
   "id": "ca49ec39-b576-4f70-86a1-c1841edfee79",
   "metadata": {},
   "outputs": [
    {
     "name": "stdout",
     "output_type": "stream",
     "text": [
      "                                   MODFLOW 6\n",
      "                U.S. GEOLOGICAL SURVEY MODULAR HYDROLOGIC MODEL\n",
      "                   VERSION 6.3.0 release candidate 07/30/2021\n",
      "                               ***DEVELOP MODE***\n",
      "\n",
      "   MODFLOW 6 compiled Dec 29 2021 09:30:50 with Intel(R) Fortran Intel(R) 64\n",
      "   Compiler for applications running on Intel(R) 64, Version 19.1.3.301 Build\n",
      "                                20200925_000000\n",
      "\n",
      "This software is preliminary or provisional and is subject to \n",
      "revision. It is being provided to meet the need for timely best \n",
      "science. The software has not received final approval by the U.S. \n",
      "Geological Survey (USGS). No warranty, expressed or implied, is made \n",
      "by the USGS or the U.S. Government as to the functionality of the \n",
      "software and related material nor shall the fact of release \n",
      "constitute any such warranty. The software is provided on the \n",
      "condition that neither the USGS nor the U.S. Government shall be held \n",
      "liable for any damages resulting from the authorized or unauthorized \n",
      "use of the software.\n",
      "\n",
      " \n",
      " Run start date and time (yyyy/mm/dd hh:mm:ss): 2024/10/16 15:16:17\n",
      " \n",
      " Writing simulation list file: mfsim.lst\n",
      " Using Simulation name file: mfsim.nam\n",
      " \n",
      "    Solving:  Stress period:     1    Time step:     1\n",
      "    Solving:  Stress period:     2    Time step:     1\n",
      "    Solving:  Stress period:     3    Time step:     1\n",
      "    Solving:  Stress period:     4    Time step:     1\n",
      "    Solving:  Stress period:     5    Time step:     1\n",
      "    Solving:  Stress period:     6    Time step:     1\n",
      "    Solving:  Stress period:     7    Time step:     1\n",
      "    Solving:  Stress period:     8    Time step:     1\n",
      "    Solving:  Stress period:     9    Time step:     1\n",
      "    Solving:  Stress period:    10    Time step:     1\n",
      "    Solving:  Stress period:    11    Time step:     1\n",
      "    Solving:  Stress period:    12    Time step:     1\n",
      "    Solving:  Stress period:    13    Time step:     1\n",
      "    Solving:  Stress period:    14    Time step:     1\n",
      "    Solving:  Stress period:    15    Time step:     1\n",
      "    Solving:  Stress period:    16    Time step:     1\n",
      "    Solving:  Stress period:    17    Time step:     1\n",
      "    Solving:  Stress period:    18    Time step:     1\n",
      "    Solving:  Stress period:    19    Time step:     1\n",
      "    Solving:  Stress period:    20    Time step:     1\n",
      "    Solving:  Stress period:    21    Time step:     1\n",
      "    Solving:  Stress period:    22    Time step:     1\n",
      "    Solving:  Stress period:    23    Time step:     1\n",
      "    Solving:  Stress period:    24    Time step:     1\n",
      "    Solving:  Stress period:    25    Time step:     1\n",
      " \n",
      " Run end date and time (yyyy/mm/dd hh:mm:ss): 2024/10/16 15:16:17\n",
      " Elapsed run time:  0.163 Seconds\n",
      " \n",
      " Normal termination of simulation.\n"
     ]
    }
   ],
   "source": [
    "# run the model \n",
    "hbd.prep_bins(new_d)\n",
    "pyemu.os_utils.run('mf6',cwd=new_d)"
   ]
  },
  {
   "cell_type": "code",
   "execution_count": 5,
   "id": "551c3b45-ef8f-43b7-982a-f2a939b061b3",
   "metadata": {},
   "outputs": [],
   "source": [
    "# start pstfrom\n",
    "# specify a template directory (i.e. the PstFrom working folder)\n",
    "template_ws = os.path.join('tmp_pst')\n",
    "start_datetime= sim.tdis.start_date_time.get_data()\n",
    "# instantiate PstFrom\n",
    "pf = pyemu.utils.PstFrom(original_d=new_d, \n",
    "                            new_d=template_ws,\n",
    "                            remove_existing=True, \n",
    "                            longnames=True, \n",
    "                            spatial_reference=modelgrid, \n",
    "                            zero_based=False, \n",
    "                            start_datetime=start_datetime, \n",
    "                            echo=False)\n",
    "\n",
    "# add forward run command\n",
    "pf.mod_sys_cmds.append(\"mf6\") \n",
    "\n",
    "#add py pkgs to forward run\n",
    "pf.extra_py_imports.append(\"shutil\")\n",
    "pf.extra_py_imports.append(\"time\")\n",
    "pf.extra_py_imports.append(\"flopy\")\n",
    "pf.extra_py_imports.append(\"platform\")"
   ]
  },
  {
   "cell_type": "code",
   "execution_count": 6,
   "id": "ecc34e20-0262-420c-8a11-82eaae031bd1",
   "metadata": {},
   "outputs": [],
   "source": [
    "# Add well rates as decision variables (1 per well per SP)\n",
    "\n",
    "files = [f for f in os.listdir(pf.new_d) if f.startswith(\"freyberg6.wel_stress_period_data_\") and f.endswith(\".txt\")]  \n",
    "files = sorted(files,\n",
    "                key=lambda x: int(x.split(\"data_\")[-1].split(\".txt\")[0]))\n",
    "\n",
    "for file in files:\n",
    "    kper = int(file.split(\".\")[1].split(\"_\")[-1])\n",
    "    pf.add_parameters(filenames=file,\n",
    "                        par_style='d',\n",
    "                        transform=\"none\",\n",
    "                        index_cols=[0,1], #columns that specify cell location\n",
    "                        use_cols=[3],       #columns with parameter values\n",
    "                        par_type=\"grid\",    #each well will be adjustable\n",
    "                        par_name_base=f\"wel_{kper-1}\",\n",
    "                        pargp=\"welrate\", \n",
    "                        upper_bound = 0, lower_bound=-500,\n",
    "                        )"
   ]
  },
  {
   "cell_type": "code",
   "execution_count": null,
   "id": "deb13701-af38-4b92-bdb2-3267a3dd1521",
   "metadata": {},
   "outputs": [],
   "source": []
  },
  {
   "cell_type": "code",
   "execution_count": 7,
   "id": "a0d14d6a-2bc5-4ebf-ba80-7ac02de72c2b",
   "metadata": {
    "scrolled": true
   },
   "outputs": [
    {
     "name": "stdout",
     "output_type": "stream",
     "text": [
      "['hds_layer0_kper0.txt', 'hds_layer0_kper1.txt', 'hds_layer0_kper2.txt', 'hds_layer0_kper3.txt', 'hds_layer0_kper4.txt', 'hds_layer0_kper5.txt', 'hds_layer0_kper6.txt', 'hds_layer0_kper7.txt', 'hds_layer0_kper8.txt', 'hds_layer0_kper9.txt', 'hds_layer0_kper10.txt', 'hds_layer0_kper11.txt', 'hds_layer0_kper12.txt', 'hds_layer0_kper13.txt', 'hds_layer0_kper14.txt', 'hds_layer0_kper15.txt', 'hds_layer0_kper16.txt', 'hds_layer0_kper17.txt', 'hds_layer0_kper18.txt', 'hds_layer0_kper19.txt', 'hds_layer0_kper20.txt', 'hds_layer0_kper21.txt', 'hds_layer0_kper22.txt', 'hds_layer0_kper23.txt', 'hds_layer0_kper24.txt']\n"
     ]
    }
   ],
   "source": [
    "# run fxn\n",
    "fnames = get_heads(ws=pf.new_d)\n",
    "print(fnames)\n",
    "\n",
    "# add head arrays at all kpers as obs\n",
    "for f in fnames:\n",
    "    kper = f.split(\".\")[0].split(\"kper\")[-1]\n",
    "    obs_df = pf.add_observations(f, \n",
    "                        insfile=f+\".ins\",  \n",
    "                        prefix=f.split(\".\")[0],)\n",
    "\n",
    "#add fxn to forward run\n",
    "pf.add_py_function(os.path.join(\"..\",\"useful_fxns.py\"),\"get_heads()\",is_pre_cmd=False)"
   ]
  },
  {
   "cell_type": "code",
   "execution_count": 8,
   "id": "3262e663-c832-419f-9ce3-e9d0eacd1d03",
   "metadata": {},
   "outputs": [
    {
     "name": "stdout",
     "output_type": "stream",
     "text": [
      "noptmax:0, npar_adj:175, nnz_obs:20000\n",
      "noptmax:0, npar_adj:175, nnz_obs:20000\n",
      "\n",
      "\n",
      "             pestpp-glm: a tool for GLM parameter estimation and FOSM uncertainty analysis\n",
      "\n",
      "                                   by The PEST++ Development Team\n",
      "\n",
      "\n",
      "version: 5.2.6\n",
      "binary compiled on Aug 15 2023 at 16:48:53\n",
      "\n",
      "started at 10/16/24 15:16:21\n",
      "...processing command line: ' ./pestpp-glm freyberg.pst'\n",
      "...using serial run manager\n",
      "\n",
      "using control file: \"freyberg.pst\"\n",
      "\n",
      "in directory: \"/Users/katherinemarkovich/Desktop/GMDSI_notebooks/tutorials/part2_11_rme/tmp_pst\"\n",
      "on host: \"katie-mac\"\n",
      "\n",
      "processing control file freyberg.pst\n",
      "\n",
      "Note: 'NOPTMAX' == 0, switching to forgiveness mode when checking inputs\n",
      "\n",
      "noptmax = 0, resetting max_run_fail = 1\n",
      "parameter warning: 11 parameters are at upper bound\n",
      "14 parameter warnings, see rec file \n",
      "checking model IO files...done\n",
      "              starting serial run manager ...\n",
      "\n",
      "\n",
      "\n",
      "\n",
      "\n",
      "\n",
      "    ---  starting serial run manager for 1 runs ---    \n",
      "\n",
      "\n",
      "10/16/24 15:16:21 processing template files with 1 threads...\n",
      "thread 0 processed 25 template files\n",
      "10/16/24 15:16:21 done, took 0.003 seconds\n",
      "10/16/24 15:16:21 calling forward run command(s)\n",
      "10/16/24 15:16:21 calling forward run command: 'python forward_run.py' \n",
      "                                   MODFLOW 6\n",
      "                U.S. GEOLOGICAL SURVEY MODULAR HYDROLOGIC MODEL\n",
      "                   VERSION 6.3.0 release candidate 07/30/2021\n",
      "                               ***DEVELOP MODE***\n",
      "\n",
      "   MODFLOW 6 compiled Dec 29 2021 09:30:50 with Intel(R) Fortran Intel(R) 64\n",
      "   Compiler for applications running on Intel(R) 64, Version 19.1.3.301 Build\n",
      "                                20200925_000000\n",
      "\n",
      "This software is preliminary or provisional and is subject to \n",
      "revision. It is being provided to meet the need for timely best \n",
      "science. The software has not received final approval by the U.S. \n",
      "Geological Survey (USGS). No warranty, expressed or implied, is made \n",
      "by the USGS or the U.S. Government as to the functionality of the \n",
      "software and related material nor shall the fact of release \n",
      "constitute any such warranty. The software is provided on the \n",
      "condition that neither the USGS nor the U.S. Government shall be held \n",
      "liable for any damages resulting from the authorized or unauthorized \n",
      "use of the software.\n",
      "\n",
      " \n",
      " Run start date and time (yyyy/mm/dd hh:mm:ss): 2024/10/16 15:16:23\n",
      " \n",
      " Writing simulation list file: mfsim.lst\n",
      " Using Simulation name file: mfsim.nam\n",
      " \n",
      "    Solving:  Stress period:     1    Time step:     1\n",
      "    Solving:  Stress period:     2    Time step:     1\n",
      "    Solving:  Stress period:     3    Time step:     1\n",
      "    Solving:  Stress period:     4    Time step:     1\n",
      "    Solving:  Stress period:     5    Time step:     1\n",
      "    Solving:  Stress period:     6    Time step:     1\n",
      "    Solving:  Stress period:     7    Time step:     1\n",
      "    Solving:  Stress period:     8    Time step:     1\n",
      "    Solving:  Stress period:     9    Time step:     1\n",
      "    Solving:  Stress period:    10    Time step:     1\n",
      "    Solving:  Stress period:    11    Time step:     1\n",
      "    Solving:  Stress period:    12    Time step:     1\n",
      "    Solving:  Stress period:    13    Time step:     1\n",
      "    Solving:  Stress period:    14    Time step:     1\n",
      "    Solving:  Stress period:    15    Time step:     1\n",
      "    Solving:  Stress period:    16    Time step:     1\n",
      "    Solving:  Stress period:    17    Time step:     1\n",
      "    Solving:  Stress period:    18    Time step:     1\n",
      "    Solving:  Stress period:    19    Time step:     1\n",
      "    Solving:  Stress period:    20    Time step:     1\n",
      "    Solving:  Stress period:    21    Time step:     1\n",
      "    Solving:  Stress period:    22    Time step:     1\n",
      "    Solving:  Stress period:    23    Time step:     1\n",
      "    Solving:  Stress period:    24    Time step:     1\n",
      "    Solving:  Stress period:    25    Time step:     1\n",
      " \n",
      " Run end date and time (yyyy/mm/dd hh:mm:ss): 2024/10/16 15:16:23\n",
      " Elapsed run time:  0.176 Seconds\n",
      " \n",
      " Normal termination of simulation.\n",
      "error removing tmp file:hds_layer0_kper0.txt\n",
      "error removing tmp file:hds_layer0_kper1.txt\n",
      "error removing tmp file:hds_layer0_kper2.txt\n",
      "error removing tmp file:hds_layer0_kper3.txt\n",
      "error removing tmp file:hds_layer0_kper4.txt\n",
      "error removing tmp file:hds_layer0_kper5.txt\n",
      "error removing tmp file:hds_layer0_kper6.txt\n",
      "error removing tmp file:hds_layer0_kper7.txt\n",
      "error removing tmp file:hds_layer0_kper8.txt\n",
      "error removing tmp file:hds_layer0_kper9.txt\n",
      "error removing tmp file:hds_layer0_kper10.txt\n",
      "error removing tmp file:hds_layer0_kper11.txt\n",
      "error removing tmp file:hds_layer0_kper12.txt\n",
      "error removing tmp file:hds_layer0_kper13.txt\n",
      "error removing tmp file:hds_layer0_kper14.txt\n",
      "error removing tmp file:hds_layer0_kper15.txt\n",
      "error removing tmp file:hds_layer0_kper16.txt\n",
      "error removing tmp file:hds_layer0_kper17.txt\n",
      "error removing tmp file:hds_layer0_kper18.txt\n",
      "error removing tmp file:hds_layer0_kper19.txt\n",
      "error removing tmp file:hds_layer0_kper20.txt\n",
      "error removing tmp file:hds_layer0_kper21.txt\n",
      "error removing tmp file:hds_layer0_kper22.txt\n",
      "error removing tmp file:hds_layer0_kper23.txt\n",
      "error removing tmp file:hds_layer0_kper24.txt\n",
      "starting list mlt 2024-10-16 15:16:22.512038\n",
      "number of chunks to process: 1\n",
      "null mlt file for org_file 'org/freyberg6.wel_stress_period_data_1.txt', continuing...\n",
      "null mlt file for org_file 'org/freyberg6.wel_stress_period_data_2.txt', continuing...\n",
      "null mlt file for org_file 'org/freyberg6.wel_stress_period_data_3.txt', continuing...\n",
      "null mlt file for org_file 'org/freyberg6.wel_stress_period_data_4.txt', continuing...\n",
      "null mlt file for org_file 'org/freyberg6.wel_stress_period_data_5.txt', continuing...\n",
      "null mlt file for org_file 'org/freyberg6.wel_stress_period_data_6.txt', continuing...\n",
      "null mlt file for org_file 'org/freyberg6.wel_stress_period_data_7.txt', continuing...\n",
      "null mlt file for org_file 'org/freyberg6.wel_stress_period_data_8.txt', continuing...\n",
      "null mlt file for org_file 'org/freyberg6.wel_stress_period_data_9.txt', continuing...\n",
      "null mlt file for org_file 'org/freyberg6.wel_stress_period_data_10.txt', continuing...\n",
      "null mlt file for org_file 'org/freyberg6.wel_stress_period_data_11.txt', continuing...\n",
      "null mlt file for org_file 'org/freyberg6.wel_stress_period_data_12.txt', continuing...\n",
      "null mlt file for org_file 'org/freyberg6.wel_stress_period_data_13.txt', continuing...\n",
      "null mlt file for org_file 'org/freyberg6.wel_stress_period_data_14.txt', continuing...\n",
      "null mlt file for org_file 'org/freyberg6.wel_stress_period_data_15.txt', continuing...\n",
      "null mlt file for org_file 'org/freyberg6.wel_stress_period_data_16.txt', continuing...\n",
      "null mlt file for org_file 'org/freyberg6.wel_stress_period_data_17.txt', continuing...\n",
      "null mlt file for org_file 'org/freyberg6.wel_stress_period_data_18.txt', continuing...\n",
      "null mlt file for org_file 'org/freyberg6.wel_stress_period_data_19.txt', continuing...\n",
      "null mlt file for org_file 'org/freyberg6.wel_stress_period_data_20.txt', continuing...\n",
      "null mlt file for org_file 'org/freyberg6.wel_stress_period_data_21.txt', continuing...\n",
      "null mlt file for org_file 'org/freyberg6.wel_stress_period_data_22.txt', continuing...\n",
      "null mlt file for org_file 'org/freyberg6.wel_stress_period_data_23.txt', continuing...\n",
      "null mlt file for org_file 'org/freyberg6.wel_stress_period_data_24.txt', continuing...\n",
      "null mlt file for org_file 'org/freyberg6.wel_stress_period_data_25.txt', continuing...\n",
      "process 0  processed  25 process_list_file calls\n",
      "finished list mlt 2024-10-16 15:16:22.606181\n",
      "starting arr mlt 2024-10-16 15:16:22.606192\n",
      "number of chunks to process: 1\n",
      "process 0  processed  0 process_array_file calls\n",
      "finished arr mlt 2024-10-16 15:16:22.606228\n",
      "10/16/24 15:16:23 foward run command(s) finished, took 1.662 seconds\n",
      "10/16/24 15:16:23 processing instruction files with 1 threads...\n",
      "thread 0 processed 25 instruction files\n",
      "10/16/24 15:16:23 done, took 0.054 seconds\n",
      "\n",
      "\n",
      "-->10/16/24 15:16:23 run complete, took: 1.739 seconds\n",
      "-->1 of 1 complete, 0 failed\n",
      "\n",
      "\n",
      "\n",
      "\n",
      "\n",
      "    ---  serial run manager runs summary:  ---    \n",
      "    1 of 1 complete, 0 failed\n",
      "    process took : 1.739 seconds\n",
      "\n",
      "\n",
      "\n",
      "\n",
      "\n",
      "-----------------------------------------\n",
      "     ---   OPTIMIZATION COMPLETE   ---   \n",
      "  Reason for terminating PEST++ simulation: NOPTMAX criterion met\n",
      "  Summary of termination criteria:\n",
      "  NOPTMAX = 0 ;  NOPT at termination = 0\n",
      "  NPHINORED = 3 ;  NPHINORED at termination = 0\n",
      "  NRELPAR = 3; RELPARSTP = 0.01 ;  NRELPAR at termination = 0\n",
      "  PHIREDSTP = 0.01; NPHISTP = 3\n",
      "  NPHISTP lowest PHI's:\n",
      "\n",
      "FINAL OPTIMISATION RESULTS\n",
      "\n",
      "  Final phi                                           Total : 0\n",
      "  Contribution to phi from observation group \"hds_layer0_kper0\" : 0\n",
      "  Contribution to phi from observation group \"hds_layer0_kper1\" : 0\n",
      "  Contribution to phi from observation group \"hds_layer0_kper2\" : 0\n",
      "  Contribution to phi from observation group \"hds_layer0_kper3\" : 0\n",
      "  Contribution to phi from observation group \"hds_layer0_kper4\" : 0\n",
      "  Contribution to phi from observation group \"hds_layer0_kper5\" : 0\n",
      "  Contribution to phi from observation group \"hds_layer0_kper6\" : 0\n",
      "  Contribution to phi from observation group \"hds_layer0_kper7\" : 0\n",
      "  Contribution to phi from observation group \"hds_layer0_kper8\" : 0\n",
      "  Contribution to phi from observation group \"hds_layer0_kper9\" : 0\n",
      "  Contribution to phi from observation group \"hds_layer0_kper10\" : 0\n",
      "  Contribution to phi from observation group \"hds_layer0_kper11\" : 0\n",
      "  Contribution to phi from observation group \"hds_layer0_kper12\" : 0\n",
      "  Contribution to phi from observation group \"hds_layer0_kper13\" : 0\n",
      "  Contribution to phi from observation group \"hds_layer0_kper14\" : 0\n",
      "  Contribution to phi from observation group \"hds_layer0_kper15\" : 0\n",
      "  Contribution to phi from observation group \"hds_layer0_kper16\" : 0\n",
      "  Contribution to phi from observation group \"hds_layer0_kper17\" : 0\n",
      "  Contribution to phi from observation group \"hds_layer0_kper18\" : 0\n",
      "  Contribution to phi from observation group \"hds_layer0_kper19\" : 0\n",
      "  Contribution to phi from observation group \"hds_layer0_kper20\" : 0\n",
      "  Contribution to phi from observation group \"hds_layer0_kper21\" : 0\n",
      "  Contribution to phi from observation group \"hds_layer0_kper22\" : 0\n",
      "  Contribution to phi from observation group \"hds_layer0_kper23\" : 0\n",
      "  Contribution to phi from observation group \"hds_layer0_kper24\" : 0\n",
      "\n",
      "\n",
      "pestpp-glm analysis complete...\n",
      "started at 10/16/24 15:16:21\n",
      "finished at 10/16/24 15:16:23\n",
      "took 0.0333333 minutes\n"
     ]
    }
   ],
   "source": [
    "#---build pst---#\n",
    "pst = pf.build_pst()\n",
    "\n",
    "pst.control_data.noptmax = 0\n",
    "pst.write(os.path.join(pf.new_d,\"freyberg.pst\"),version=2)\n",
    "pyemu.os_utils.run(\"pestpp-glm freyberg.pst\",cwd=pf.new_d)\n",
    "pst = pyemu.Pst(os.path.join(pf.new_d,\"freyberg.pst\"))\n",
    "assert pst.phi < 1e-7"
   ]
  },
  {
   "cell_type": "markdown",
   "id": "6e3bcaef-882a-4fa1-a537-2463c608209b",
   "metadata": {},
   "source": [
    "Okay, we've got our simple `pestpp-glm` run built and ready to go, now it's time to generate the response matrix! We do this simply by running GLM to calculate 2-point derivates (aka differencing an increment with the base run). But one critical detail here is establishing what that increment value should be. "
   ]
  },
  {
   "cell_type": "markdown",
   "id": "f3f6c2da-3b1f-437c-a962-5333061d7644",
   "metadata": {},
   "source": [
    "For calculating a Jacobian, the increment value must satisfy the derivative assumption by being as small as possible to approximate the derivate while also being large enough to produce a response in the outputs. This is where the reponse matrix deviates from a Jacobian, because it is not beholden to the derivative assumption. Instead, we want to use a larger increment to ensure we get a large response in the outputs. #internal note, it might be cool to demonstrate this"
   ]
  },
  {
   "cell_type": "code",
   "execution_count": 13,
   "id": "e21dd620-4776-4bd5-9fd0-6c15fbc0d7e0",
   "metadata": {},
   "outputs": [
    {
     "name": "stdout",
     "output_type": "stream",
     "text": [
      "noptmax:-1, npar_adj:175, nnz_obs:20000\n",
      "\n",
      "\n",
      "             pestpp-glm: a tool for GLM parameter estimation and FOSM uncertainty analysis\n",
      "\n",
      "                                   by The PEST++ Development Team\n",
      "\n",
      "\n",
      "version: 5.2.6\n",
      "binary compiled on Aug 15 2023 at 16:48:53\n",
      "\n",
      "started at 10/16/24 15:57:19\n",
      "...processing command line: ' ./pestpp-glm freyberg.pst /h :4004'\n",
      "...using panther run manager in master mode using port 4004\n",
      "\n",
      "using control file: \"freyberg.pst\"\n",
      "\n",
      "in directory: \"/Users/katherinemarkovich/Desktop/GMDSI_notebooks/tutorials/part2_11_rme/freyberg_rm\"\n",
      "on host: \"katie-mac\"\n",
      "\n",
      "processing control file freyberg.pst\n",
      "parameter warning: 11 parameters are at upper bound\n",
      "parameter error: PNAME:WEL_11_INST:0_PTYPE:GR_USECOL:3_PSTYLE:D_IDX0:0_IDX1:24 initial value is less than lower bound\n",
      "parameter error: PNAME:WEL_12_INST:0_PTYPE:GR_USECOL:3_PSTYLE:D_IDX0:0_IDX1:24 initial value is less than lower bound\n",
      "parameter error: PNAME:WEL_13_INST:0_PTYPE:GR_USECOL:3_PSTYLE:D_IDX0:0_IDX1:24 initial value is less than lower bound\n",
      "parameter error: PNAME:WEL_14_INST:0_PTYPE:GR_USECOL:3_PSTYLE:D_IDX0:0_IDX1:24 initial value is less than lower bound\n",
      "parameter error: PNAME:WEL_15_INST:0_PTYPE:GR_USECOL:3_PSTYLE:D_IDX0:0_IDX1:24 initial value is less than lower bound\n",
      "parameter error: PNAME:WEL_16_INST:0_PTYPE:GR_USECOL:3_PSTYLE:D_IDX0:0_IDX1:24 initial value is less than lower bound\n",
      "parameter error: PNAME:WEL_17_INST:0_PTYPE:GR_USECOL:3_PSTYLE:D_IDX0:0_IDX1:24 initial value is less than lower bound\n",
      "parameter error: PNAME:WEL_18_INST:0_PTYPE:GR_USECOL:3_PSTYLE:D_IDX0:0_IDX1:24 initial value is less than lower bound\n",
      "parameter error: PNAME:WEL_19_INST:0_PTYPE:GR_USECOL:3_PSTYLE:D_IDX0:0_IDX1:24 initial value is less than lower bound\n",
      "parameter error: PNAME:WEL_20_INST:0_PTYPE:GR_USECOL:3_PSTYLE:D_IDX0:0_IDX1:24 initial value is less than lower bound\n",
      "parameter error: PNAME:WEL_21_INST:0_PTYPE:GR_USECOL:3_PSTYLE:D_IDX0:0_IDX1:24 initial value is less than lower bound\n",
      "parameter error: PNAME:WEL_22_INST:0_PTYPE:GR_USECOL:3_PSTYLE:D_IDX0:0_IDX1:24 initial value is less than lower bound\n",
      "parameter error: PNAME:WEL_23_INST:0_PTYPE:GR_USECOL:3_PSTYLE:D_IDX0:0_IDX1:24 initial value is less than lower bound\n",
      "parameter error: PNAME:WEL_24_INST:0_PTYPE:GR_USECOL:3_PSTYLE:D_IDX0:0_IDX1:24 initial value is less than lower bound\n",
      "Error condition prevents further execution: \n",
      "error in inputs...\n"
     ]
    },
    {
     "ename": "Exception",
     "evalue": "start_workers() master returned non-zero: 1",
     "output_type": "error",
     "traceback": [
      "\u001b[0;31m---------------------------------------------------------------------------\u001b[0m",
      "\u001b[0;31mException\u001b[0m                                 Traceback (most recent call last)",
      "Cell \u001b[0;32mIn[13], line 19\u001b[0m\n\u001b[1;32m     17\u001b[0m pst\u001b[38;5;241m.\u001b[39mwrite(os\u001b[38;5;241m.\u001b[39mpath\u001b[38;5;241m.\u001b[39mjoin(pf\u001b[38;5;241m.\u001b[39mnew_d,\u001b[38;5;124m\"\u001b[39m\u001b[38;5;124mfreyberg.pst\u001b[39m\u001b[38;5;124m\"\u001b[39m),version\u001b[38;5;241m=\u001b[39m\u001b[38;5;241m2\u001b[39m)\n\u001b[1;32m     18\u001b[0m \u001b[38;5;66;03m# run\u001b[39;00m\n\u001b[0;32m---> 19\u001b[0m \u001b[43mpyemu\u001b[49m\u001b[38;5;241;43m.\u001b[39;49m\u001b[43mos_utils\u001b[49m\u001b[38;5;241;43m.\u001b[39;49m\u001b[43mstart_workers\u001b[49m\u001b[43m(\u001b[49m\u001b[43mpf\u001b[49m\u001b[38;5;241;43m.\u001b[39;49m\u001b[43mnew_d\u001b[49m\u001b[43m,\u001b[49m\u001b[43m  \u001b[49m\u001b[38;5;66;43;03m# the folder which contains the \"template\" PEST dataset\u001b[39;49;00m\n\u001b[1;32m     20\u001b[0m \u001b[43m                            \u001b[49m\u001b[38;5;124;43m'\u001b[39;49m\u001b[38;5;124;43mpestpp-glm\u001b[39;49m\u001b[38;5;124;43m'\u001b[39;49m\u001b[43m,\u001b[49m\u001b[43m  \u001b[49m\u001b[38;5;66;43;03m# the PEST software version we want to run\u001b[39;49;00m\n\u001b[1;32m     21\u001b[0m \u001b[43m                            \u001b[49m\u001b[38;5;124;43m\"\u001b[39;49m\u001b[38;5;124;43mfreyberg.pst\u001b[39;49m\u001b[38;5;124;43m\"\u001b[39;49m\u001b[43m,\u001b[49m\u001b[43m  \u001b[49m\u001b[38;5;66;43;03m# the control file to use with PEST\u001b[39;49;00m\n\u001b[1;32m     22\u001b[0m \u001b[43m                            \u001b[49m\u001b[43mnum_workers\u001b[49m\u001b[38;5;241;43m=\u001b[39;49m\u001b[38;5;241;43m4\u001b[39;49m\u001b[43m,\u001b[49m\u001b[43m  \u001b[49m\u001b[38;5;66;43;03m# how many agents to deploy\u001b[39;49;00m\n\u001b[1;32m     23\u001b[0m \u001b[43m                            \u001b[49m\u001b[43mworker_root\u001b[49m\u001b[38;5;241;43m=\u001b[39;49m\u001b[38;5;124;43m\"\u001b[39;49m\u001b[38;5;124;43m.\u001b[39;49m\u001b[38;5;124;43m\"\u001b[39;49m\u001b[43m,\u001b[49m\u001b[38;5;66;43;03m# where to deploy the agent directories; relative to where python is running\u001b[39;49;00m\n\u001b[1;32m     24\u001b[0m \u001b[43m                            \u001b[49m\u001b[43mmaster_dir\u001b[49m\u001b[38;5;241;43m=\u001b[39;49m\u001b[38;5;124;43m\"\u001b[39;49m\u001b[38;5;124;43mfreyberg_rm\u001b[39;49m\u001b[38;5;124;43m\"\u001b[39;49m\u001b[43m,\u001b[49m\u001b[43m  \u001b[49m\u001b[38;5;66;43;03m# the manager directory\u001b[39;49;00m\n\u001b[1;32m     25\u001b[0m \u001b[43m                            \u001b[49m\u001b[43mcleanup\u001b[49m\u001b[38;5;241;43m=\u001b[39;49m\u001b[38;5;28;43;01mTrue\u001b[39;49;00m\u001b[43m,\u001b[49m\n\u001b[1;32m     26\u001b[0m \u001b[43m                            \u001b[49m\u001b[43m)\u001b[49m\n",
      "File \u001b[0;32m~/Desktop/GMDSI_notebooks/dependencies/pyemu/pyemu/utils/os_utils.py:381\u001b[0m, in \u001b[0;36mstart_workers\u001b[0;34m(worker_dir, exe_rel_path, pst_rel_path, num_workers, worker_root, port, rel_path, local, cleanup, master_dir, verbose, silent_master, reuse_master, restart)\u001b[0m\n\u001b[1;32m    379\u001b[0m ret_val \u001b[38;5;241m=\u001b[39m master_p\u001b[38;5;241m.\u001b[39mreturncode\n\u001b[1;32m    380\u001b[0m \u001b[38;5;28;01mif\u001b[39;00m ret_val \u001b[38;5;241m!=\u001b[39m \u001b[38;5;241m0\u001b[39m:\n\u001b[0;32m--> 381\u001b[0m     \u001b[38;5;28;01mraise\u001b[39;00m \u001b[38;5;167;01mException\u001b[39;00m(\u001b[38;5;124m\"\u001b[39m\u001b[38;5;124mstart_workers() master returned non-zero: \u001b[39m\u001b[38;5;132;01m{0}\u001b[39;00m\u001b[38;5;124m\"\u001b[39m\u001b[38;5;241m.\u001b[39mformat(ret_val))\n",
      "\u001b[0;31mException\u001b[0m: start_workers() master returned non-zero: 1"
     ]
    }
   ],
   "source": [
    "pst = pyemu.Pst(os.path.join(pf.new_d,\"freyberg.pst\"))\n",
    "pst.control_data.noptmax = -1\n",
    "\n",
    "#increment values are set by par groups (not by indiv pars)\n",
    "par_gp = pst.parameter_groups\n",
    "derinc_dict = {\n",
    "    'welrate':{\n",
    "                \"derinc\":10,\n",
    "               \"inctyp\":\"absolute\"\n",
    "               },\n",
    "           }\n",
    "for k,v in derinc_dict.items():\n",
    "    par_gp.loc[k,'derinc'] = derinc_dict[k][\"derinc\"]\n",
    "    par_gp.loc[k,'inctyp'] = derinc_dict[k][\"inctyp\"]\n",
    "\n",
    "\n",
    "pst.write(os.path.join(pf.new_d,\"freyberg.pst\"),version=2)\n",
    "# run\n",
    "pyemu.os_utils.start_workers(pf.new_d,  # the folder which contains the \"template\" PEST dataset\n",
    "                            'pestpp-glm',  # the PEST software version we want to run\n",
    "                            \"freyberg.pst\",  # the control file to use with PEST\n",
    "                            num_workers=4,  # how many agents to deploy\n",
    "                            worker_root=\".\",# where to deploy the agent directories; relative to where python is running\n",
    "                            master_dir=\"freyberg_rm\",  # the manager directory\n",
    "                            cleanup=True,\n",
    "                            )"
   ]
  }
 ],
 "metadata": {
  "kernelspec": {
   "display_name": "Python 3 (ipykernel)",
   "language": "python",
   "name": "python3"
  },
  "language_info": {
   "codemirror_mode": {
    "name": "ipython",
    "version": 3
   },
   "file_extension": ".py",
   "mimetype": "text/x-python",
   "name": "python",
   "nbconvert_exporter": "python",
   "pygments_lexer": "ipython3",
   "version": "3.11.9"
  }
 },
 "nbformat": 4,
 "nbformat_minor": 5
}
